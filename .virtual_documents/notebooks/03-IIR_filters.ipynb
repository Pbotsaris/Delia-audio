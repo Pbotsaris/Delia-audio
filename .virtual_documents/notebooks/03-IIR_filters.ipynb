





import numpy as np
import librosa
import matplotlib.pyplot as plt
from IPython.display import Audio, display
from scipy.signal import freqz

samples, sr = librosa.load('audio_examples/voice.wav', sr=44100)
samples = samples[: 2 * sr] # two seconds only

cutoff = 80 # hz
Q =  0.6 # flatten is 1/sqrt(2) ~= 0.707

# K = tan(π*fc/fs)
K = np.tan(np.pi * cutoff / sr)

# 2nd order
def lowpass_coefs(K, Q):
    den = K**2 * Q + K + Q
    
    a1 = (2 * Q * (K**2 - 1)) / den
    a2 = (K**2 * Q - K + Q) / den
    
    b0 = (K**2 * Q) / den
    b1 = (2 * K**2 * Q) / den
    b2 = (K**2 * Q) / den

    return a1, a2, b0, b1, b2

def cannonical_lowpass(samples, K, Q):
    a1, a2, b0, b1, b2 = lowpass_coefs(K, Q)
    N = len(samples)

    x_h = np.zeros(N)
    y = np.zeros(N)
     
    for n in range(N):
        if n == 0:
            x_h[n] = samples[n]
            y[n] = b0 * x_h[n]
        elif n == 1:
            x_h[n] = samples[n] - a1 * x_h[n - 1]
            y[n] = b0 * x_h[n] + b2 * x_h[n - 1]
        else:
            x_h[n] = samples[n] - a1 * x_h[n - 1] - a2 * x_h[n - 2]
            y[n] = b0 * x_h[n] + b1 * x_h[n - 1] + b2 * x_h[n - 2]

    return y

def samples_to_time(samples):
    times = []

    for s in range(len(samples)):
        times.append(s / sr)
        
    return times

def plot_frequency_response(K, Q):
    a1, a2, b0, b1, b2 = lowpass_coefs(K, Q)
    b = [b0, b1, b2]
    a = [1, a1, a2]  # first coefficient of `a` is always 1 for normalized IIR filters
    w, h = freqz(b, a, worN=8000) # 8000 evenly spaced points between 0 and π radians/sample
    plt.plot(0.5 * sr * w / np.pi, np.abs(h), 'b')
    plt.title("Frequency Response of the Filter")
    plt.xlabel("Frequency (Hz)")
    plt.xscale('log')  
    plt.xticks([10, 100, 1000, 10000], [10, 100, 1000, 10000])  # Custom ticks in Hz
    
    plt.ylabel("Gain")
    plt.grid()

filtered = cannonical_lowpass(samples, K, Q)

plt.figure(figsize=(8, 4))
plot_frequency_response(K, Q)

plt.figure(figsize=(8,4))
plt.plot(samples_to_time(samples), samples)
plt.title("Original Signal")
plt.xlabel("Time (s)")
plt.ylabel("Amplitude")


plt.figure(figsize=(8,4))
plt.plot(samples_to_time(samples), filtered)
plt.title("Filtered Signal")
plt.xlabel("Time (s)")
plt.ylabel("Amplitude")

plt.show()

print("Original")
display(Audio(samples, rate=sr))
print("Filtered")
display(Audio(filtered, rate=sr))





fs = sr
fc = 1000 # hz
Q = 0.5

F1 = 2 * np.sin(np.pi * fc / fs)
Q1 = 1 / Q
epsilon = 1e-40  # avoid division by zero


def state_variable_filter(x, F1, Q1):
    N = len(samples)
    y_h = np.zeros(N)
    y_l = np.zeros(N)
    y_b = np.zeros(N)

    for n in range(N):
        if n == 0:
            y_h[n] = x[n] # y_l[n - 1] and y_b[n-1] = 0
            y_b[n] = F1 * y_h[n]
            y_l[n] = F1 * y_b[n]
            continue

        y_h[n] =  x[n] - y_l[n - 1] - Q1 * y_b[n - 1]
        y_b[n] =  F1 * y_h[n] + y_b[n - 1]
        y_l[n] = F1 * y_b[n] + y_l[n - 1]

    return y_h, y_b, y_l


highpass_out, bandpass_out, lowpass_out = state_variable_filter(samples, F1, Q1) 

# manually calculating the frequency response (instead of scipy.freqz)
def freq_response(F1, Q1, fs, n_points=1024):
    w = np.linspace(0, np.pi, n_points) # radian / sample

    # Outs
    H_l = np.zeros_like(w, dtype=complex)
    H_b =  np.zeros_like(w, dtype=complex)
    H_h = np.zeros_like(w, dtype=complex)

    
    q = 1 - F1 * Q1  
    r = F1

    for n, omega in enumerate(w): 
        z = np.exp(1j * omega)  # z = e^(jω)

        den = (1 + (r**2 - q - 1) * z**-1 + q * z**-2 + epsilon)

        # Transfer functions
        H_l[n] = r**2 / den  
        H_b[n] = (r * (1 - z**-1)) / den  
        H_h[n] = ((1 - z**-1)**2) / den  

    freq_hz = (w * fs)/ (2 * np.pi)
    return freq_hz, H_h, H_b, H_l

freqs, response_high, response_band, response_low = freq_response(F1, Q1, fs) 

plt.figure(figsize=((8,4)))
plt.plot(freqs, np.abs(response_high), label ="Highpass")
plt.plot(freqs, np.abs(response_band), label="Bandpass")
plt.plot(freqs, np.abs(response_low), label="Lowpass")
plt.xscale('log')  
plt.xticks([10, 100, 1000, 10000, 20000], [10, 100, 1000, 10000, 20000])  # Custom ticks in Hz
plt.legend()

plt.title("State Variable Filter: Freq Response for fc = 1Khz and Q = 0.4")
plt.xlabel("Frequency(Hz)")
plt.ylabel("Magnitude")
plt.grid(True)
plt.show()


print("Original")
display(Audio(samples, rate=sr))

print("Highpass Output")
display(Audio(highpass_out, rate=sr))

print("Bandpass Output")
display(Audio(bandpass_out, rate=sr))

print("Lowpass Output")
display(Audio(lowpass_out, rate=sr))








# Parameters
fs = 48000
fc = 1000
zeta = 0.5
F1 = 2 * np.sin(np.pi * fc / fs)
Q1 = 1 / zeta

# Frequency response without normalization
freqs, H_h_unnorm, H_b_unnorm, H_l_unnorm = freq_response(F1, Q1, fs)

# Applying normalization: low-pass filter + amplitude correction
sqrt_zeta = np.sqrt(zeta)
H_h_norm = H_h_unnorm * np.sqrt(zeta)
H_b_norm = H_b_unnorm * np.sqrt(zeta)
H_l_norm = H_l_unnorm * np.sqrt(zeta)

# Plot the unnormalized and normalized responses
plt.figure(figsize=(10, 6))
plt.plot(freqs, np.abs(H_h_unnorm), label="Unnormalized Highpass", linestyle='--')
plt.plot(freqs, np.abs(H_h_norm), label="Normalized Highpass")
plt.plot(freqs, np.abs(H_b_unnorm), label="Unnormalized Bandpass", linestyle='--')
plt.plot(freqs, np.abs(H_b_norm), label="Normalized Bandpass")
plt.plot(freqs, np.abs(H_l_unnorm), label="Unnormalized Lowpass", linestyle='--')
plt.plot(freqs, np.abs(H_l_norm), label="Normalized Lowpass")
plt.xscale('log')
plt.legend()
plt.title("Unnormalized vs Normalized Frequency Response")
plt.xlabel("Frequency (Hz)")
plt.ylabel("Magnitude")
plt.grid(True)
plt.show()









fs = 44100
# in the middle
fc = fs * 0.1

n_samples = 100

tan = np.tan(np.pi * fc / fs)
c = (tan - 1) / (tan + 1)

def allpass_first_order(x, c, fs):
    N = len(x)
    x_h = np.zeros(N)
    y = np.zeros(N)

    for n in range(1, N):
        x_h[n] = x[n] - c * x_h[n - 1]
        y[n] = c * x_h[n] + x_h[ n- 1]

    return y

def allpass_freq_response(c, fs, n_points=1024):
    w = np.linspace(0, np.pi, n_points)
    A = np.zeros_like(w, dtype=complex)

    for n, omega in enumerate(w):
        z = np.exp(1j * omega)
        A[n] = (z**-1 + c) / (1 + c * z**-1)

    freqs = (w * fs)/ (2 * np.pi)
    return freqs, w, A

freqs, w, A = allpass_freq_response(c, fs)
phase_radians = np.angle(A)
phase_degrees = np.degrees(phase_radians)
group_delay = -np.diff(phase_radians) / np.diff(w)

# filtering just the first 100 samples for plotting
filtered = allpass_first_order(samples[n_samples:n_samples + n_samples], c, fs)

plt.figure(figsize=(8, 8))

plt.subplot(5, 1, 1)
plt.title("Allpass: Magnitude Response")
plt.plot(freqs, np.abs(A))
plt.xlabel("Frequency (Hz)")
plt.ylabel("Magnitude")
plt.xlim(0,20000)
plt.grid(True)

plt.subplot(5, 1, 2)
plt.title("Allpass: Phase Response")
plt.plot(freqs, phase_degrees)
plt.xlabel("Frequency(Hz)")
plt.ylabel("Phase (Degrees)")
plt.xlim(0, 20000)
plt.grid(True)

plt.subplot(5, 1, 3)
plt.title("Allpass: Group Delay")
plt.plot(freqs[:-1], group_delay)
plt.xlabel("Frequency(Hz)")
plt.ylabel("Group Delay (Samples)")
plt.xlim(0, 20000)
plt.grid(True)

plt.subplot(5, 1, 4)
plt.title("Original: 100 samples")
plt.plot(np.linspace(0, n_samples, n_samples), samples[n_samples:n_samples + n_samples])
plt.xlabel("Samples")
plt.ylabel("Amplitude")

plt.subplot(5, 1, 5)
plt.title("Filtered: 100 samples")
plt.plot(np.linspace(0, n_samples, n_samples), filtered[:n_samples])
plt.xlabel("Samples")
plt.ylabel("Amplitude")

plt.tight_layout()





fs = sr
# HPF Frequency response
freqs, w, A = allpass_freq_response(c, fs)

hpf_response = 0.5 *(1 - A)
phase_radians = np.angle(hpf_response)
phase_degrees = np.degrees(phase_radians)

# HPF

N = len(samples)
filtered = allpass_first_order(samples, c, fs)

# Applying the HPF in the Allpass output
for n, sample in enumerate(samples):
    filtered[n] = 0.5 *(sample - filtered[n])


def to_db(mags):
    return 10 * np.log10(mags + 1e-20)

plt.figure(figsize=(10,10))

plt.subplot(4, 1, 1)
plt.title("Allpass-based HPF: Magnitude Response")
plt.plot(freqs, to_db(np.abs(hpf_response)))
plt.xlabel("Frequency (Hz)")
plt.ylabel("Magnitude(db)")
plt.xscale('log')
plt.ylim(-25, 10)
plt.axhline(y=-3, linestyle='--', color='red', label="-3db cutoff")
plt.legend()
plt.grid(True)

plt.subplot(4, 1, 2)
plt.title("Allpass-based HPF: Phase Response")
plt.plot(freqs, phase_degrees)
plt.xlabel("Frequency (Hz)")
plt.ylabel("Phase Degrees")
plt.xscale('log')
plt.grid(True)

plt.subplot(4, 1, 3)
plt.title("Original Samples")
plt.plot(np.linspace(0, N, N), samples)
plt.xlabel("Samples")
plt.ylabel("Amplitude")

plt.subplot(4, 1, 4)
plt.title("filtered Samples")
plt.plot(np.linspace(0, N, N), filtered)
plt.xlabel("Samples")
plt.ylabel("Amplitude")

plt.tight_layout()

print("Original")
display(Audio(samples,rate=sr))
print("Filtered")
display(Audio(filtered, rate=sr))






def coeff_c(fb, fs):
    tan = np.tan(np.pi * fb / fs)
    
    return (tan - 1) / (tan + 1)

def coeff_d(fc, fs):
    return -np.cos(2 * np.pi * fc / fs)

def second_order_allpass(x, c, d):
    N = len(x)
    x_h = np.zeros(N)
    y = np.zeros(N)

    for n in range(N):
        if n == 0:
            x_h[n] = x[n] # - d(1 - c) * 0 + c * 0
            y[n] = -c * x_h[n] # + d(1 - c) * 0 +  0
            continue

        if n == 1:
            x_h[n] = x[n] - d * (1 - c) * x_h[n - 1] # + c * 0
            y[n] = -c * x_h[n] + d * (1 - c) * x_h[n - 1] # + 0
            continue
            
        x_h[n] = x[n] - d * (1 - c) * x_h[n - 1] + c * x_h[n - 2]
        y[n] = -c * x_h[n] + d * (1 - c) * x_h[n - 1] + x_h[n - 2]

    return y

def second_order_allpass_freq_response(c, d, n_points=2048):
    w = np.linspace(0, np.pi, n_points)
    A = np.zeros_like(w, dtype=complex)

    for n, omega in enumerate(w):
        z = np.exp(1j * omega)
        num = -c + d * ( 1 - c) * z**-1 + z**-2
        den = 1 + d * ( 1- c) * z**-1 -  c * z**-2
        
        A[n] = num / den

    freqs = (w * fs)/ (2 * np.pi)
    return freqs, w, A

n_samples = 100
fc = 0.1 * fs # hz
fb = 0.022 * fs # bandwdith
fs = sr # sampling frequency (this is correct, don[t worry])
c = coeff_c(fb, fs)
d = coeff_d(fc, fs)

segment = samples[n_samples:n_samples + n_samples] # first 100 samples, this is an allpass, we want to check the phase difference in the time domain
filtered = second_order_allpass(segment, c, d)

freqs, w, A = second_order_allpass_freq_response(c, d)

# unwrapping is necessary because the phase shift in second-order approaches -360 degrees, so we must unwrap as
# our angle is between -pi and pi
phase_radians = np.unwrap(np.angle(A))
phase_degrees = np.degrees(phase_radians)
group_delay = -np.diff(phase_radians) / np.diff(w)

plt.figure(figsize=(10, 10))
plt.subplot(5, 1, 1)
plt.title("Second-order Allpass: Magnitude Response")
plt.plot(freqs, np.abs(A))
plt.xlabel("Frequency (Hz)")
plt.ylabel("Magnitude")
plt.xlim(0, 20000)
plt.grid(True)

plt.subplot(5, 1, 2)
plt.title("Second-roder Allpass: Phase Response")
plt.plot(freqs, phase_degrees)
plt.xlabel("Frequency(Hz)")
plt.ylabel("Phase (Degrees)")
plt.xlim(0, 20000)
plt.grid(True)

plt.subplot(5, 1, 3)
plt.title("Second-order Allpass: Group Delay")
plt.plot(freqs[:-1], group_delay)
plt.xlabel("Frequency(Hz)")
plt.ylabel("Group Delay (Samples)")
plt.xlim(0, 20000)
plt.grid(True)

plt.subplot(5, 1, 4)
plt.title("Original: 100 samples")
plt.plot(np.linspace(0, n_samples, n_samples), segment)
plt.xlabel("Samples")
plt.ylabel("Amplitude")

plt.subplot(5, 1, 5)
plt.title("Filtered: 100 samples")
plt.plot(np.linspace(0, n_samples, n_samples), filtered)
plt.xlabel("Samples")
plt.ylabel("Amplitude")

plt.tight_layout()





fc = 3000 # cutoff in hz 
fb = 0.022 * fs # bandwdith
fs = sr 
c = coeff_c(fb, fs)
d = coeff_d(fc, fs)

filtered = second_order_allpass(samples, c, d)
filtered = 0.5 * (samples - filtered)

freqs, w, A = second_order_allpass_freq_response(c,d)

H_z = 0.5 * (1 - A)
phase_radians = np.unwrap(np.angle(H_z))
phase_degrees= np.degrees(phase_radians)
group_delay = -np.diff(phase_radians) / np.diff(w)

plt.figure(figsize=(6,4))
plt.plot(np.linspace(0, len(filtered), len(filtered)), filtered)
plt.title("Filtered Audio: Bandpass @ 3k")
plt.xlabel("Samples")
plt.ylabel("Amplitude")

plt.figure(figsize=(10, 10))
plt.subplot(5, 1, 1)
plt.title("BPF 3K: Magnitude Response")
plt.plot(freqs, np.abs(H_z))
plt.xlabel("Frequency (Hz)")
plt.ylabel("Magnitude")
plt.xlim(0, 20000)
plt.grid(True)

plt.subplot(5, 1, 2)
plt.title("BPF 3K: Phase Response")
plt.plot(freqs, phase_degrees)
plt.xlabel("Frequency(Hz)")
plt.ylabel("Phase (Degrees)")
plt.xlim(0, 20000)
plt.grid(True)

plt.subplot(5, 1, 3)
plt.title("BPF 3K: Group Delay")
plt.plot(freqs[:-1], group_delay)
plt.xlabel("Frequency(Hz)")
plt.ylabel("Group Delay (Samples)")
plt.xlim(0, 20000)
plt.ylim(0, 15)
plt.grid(True)

plt.tight_layout()


print("Filtered: Bandpass @ 3k")
display(Audio(filtered, rate=fs))

























































