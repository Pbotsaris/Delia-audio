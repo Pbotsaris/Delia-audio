import numpy as np
import librosa
import matplotlib.pyplot as plt
from IPython.display import Audio, display
import scipy

samples, sr = librosa.load('audio_examples/voice.wav', sr=44100)
samples = samples[sr: 3 * sr] # two seconds only and dial down the volume a bit

def unit_impulse(N):
    impulse = np.zeros(N)
    impulse[0] = 1
    return impulse











def fir_filter(x,bs):
    N = len(bs)
    y = np.zeros(len(x))

    for n in range(len(x)):
        for i in range(N):
            if n - i >= 0:  
              y[n] += bs[i] * x[n - i]
                
    return y

def fir_freq_response(bs, fs, n_points=512):
    w = np.linspace(0, np.pi, n_points)
    H = np.zeros_like(w, dtype=complex)
    N = len(bs)

    for n, omega in enumerate(w):
        z = np.exp(1j * omega)
        H[n] = bs[0]

        for i in range(1, N):
            H[n] += bs[i] * z**(-i)

    freqs = (w * fs) / (2 * np.pi)  

    return freqs, w, H

N = 10
bs = [0.2, 0.3, 0.5, 0.3, 0.1] # made up coeffs for example
fs = 44100

impulse = unit_impulse(N) 
imp_response = fir_filter(impulse, bs)

freqs, w, H = fir_freq_response(bs, fs)

plt.figure(figsize=(10, 3))
plt.plot(freqs, np.abs(H))
plt.title("4-tap FIR Filter Frequency Response")
plt.xlabel("Frequency (Hz)")
plt.ylabel("Magnitude")
plt.xlim(0, 20000)
plt.grid(True)

plt.figure(figsize=(10, 3))
plt.stem(np.arange(len(imp_response)), imp_response)
plt.ylabel("h(n)")
plt.xlabel("n")
plt.ylim(0, 0.6)
plt.title("4-tap FIR Filter Impulse Response")

for i in range(len(bs)):
    plt.text(i, imp_response[i] + 0.04, "$%s$" % f"b_{i}", ha='center')


plt.show()





fs = sr
fc = 250
N  = 51 # number of filter taps


def window_sinc_lpf_impulse(N, fc, fs):
    n = np.arange(N)
    center = (N - 1) / 2
    x = 2 * fc / fs * (n - center)
    h_lpf = (2 * fc / fs) * np.sinc(x)
    return h_lpf


def window_sinc_freq_response(h, n_points = 1024):
    w = np.linspace(0, np.pi, n_points)
    H = np.zeros_like(w, dtype=complex)
    N = len(h)

    # basically calculating the DFT
    for i, omega in enumerate(w):
        for n in range(N):
            H[i] += h[n] * np.exp(-1j * omega * n)

    freqs = (w * fs) / (2 * np.pi)

    return freqs, w, H


h_lpf = window_sinc_lpf_impulse(N, fc, fs)

window = np.hamming(N)
h_lpf = h_lpf * window

filtered = scipy.signal.convolve(samples, h_lpf)
freqs, w, H = window_sinc_freq_response(h_lpf)

plt.figure(figsize=(10, 4))
plt.stem(np.arange(N), h_lpf)
plt.title("FIR Lowpass Impulse Response")
plt.xlabel("Samples Index")
plt.ylabel("Amplitude")
plt.grid(True)

plt.figure(figsize=(10, 4))
plt.title("FIR Lowpass Frequency Response")
plt.plot(freqs, np.abs(H) ) 
plt.ylabel("Magnitude")
plt.xlabel("Freq (Hz)")
plt.xscale('log')
plt.grid(True)


plt.show()
print("Filtered Sigal")
display(Audio(filtered, rate=fs))






def lpf_to_hpf(h_lpf):
    N = len(h_lpf)
    n = np.arange(N)
    h_hpf = h_lpf * np.cos(np.pi * (n - (N - 1) / 2))
    return h_hpf


    return h_hpf

# def lpf_to_hpf(h_lpf):
#     N = len(h_lpf)
#     delta = np.zeros(N)
#     center = (N - 1) // 2
#     delta[center] = 1
#     h_hpf = delta - h_lpf
#     return h_hpf

# N = len(h_lpf)
#    n = np.arange(N)
#    h_hpf = h_lpf * np.cos(np.pi * (n - (N - 1) / 2))
#    return h_hpf
#

#def lpf_to_bpf(h_lpf, fc, fs):
#     N = len(h_lpf)
#     h_bpf = np.zeros_like(h_lpf)
# 
#     for n in range(N):
#         h_bpf[n]= 2 * h_lpf[n] * np.cos(2 * np.pi * fc/fs * (n - (N - 1) / 2))
# 
#     return h_bpf
       

# changing the fc and recalculating the LPF so HPF and BPF are more noticable
fc = 1000
h_lpf = window_sinc_lpf_impulse(N, fc, fs)
h_lpf = h_lpf * window

h_hpf = lpf_to_hpf(h_lpf)
h_bpf = lpf_to_bpf(h_lpf, fc, fs)


filtered_highpass = scipy.signal.convolve(samples, h_hpf)
filtered_bandpass = scipy.signal.convolve(samples, h_bpf)
freqs, w, H_hpf = window_sinc_freq_response(h_hpf)
_, _, H_bpf = window_sinc_freq_response(h_bpf)

plt.figure(figsize=(10, 4))
plt.stem(np.arange(len(h_hpf)), h_hpf)

plt.figure(figsize=(10, 4))
plt.stem(np.arange(len(h_bpf)), h_bpf)

plt.figure(figsize=(10, 4))
plt.title("FIR Highpass Frequency Response")
plt.plot(freqs, np.abs(H_hpf) ) 
plt.ylabel("Magnitude")
plt.xlabel("Freq (Hz)")
plt.grid(True)


plt.figure(figsize=(10, 4))
plt.title("FIR Bandpass Frequency Response")
plt.plot(freqs, np.abs(H_bpf) ) 
plt.ylabel("Magnitude")
plt.xlabel("Freq (Hz)")
plt.grid(True)


plt.show()


display(Audio(filtered_highpass, rate=sr))
display(Audio(filtered_bandpass, rate=sr))
    







































