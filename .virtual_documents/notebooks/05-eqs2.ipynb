import numpy as np
import matplotlib.pyplot as plt
import librosa
from IPython.display import Audio, display

# audio example
samples, sr = librosa.load("audio_examples/voice.wav", sr=44100)

# 2 seconds
samples = samples[sr: sr * 3]





def gain_param(G):
    V_0 = 10 ** (G / 20)
    
    return V_0 - 1, V_0

def shelf_params(V_0, fc, fs):
    tan = np.tan(np.pi * fc / fs)

    boost = (tan - 1)  / (tan + 1) 
    low_cut = (tan - V_0) / (tan + V_0)
    hi_cut = (V_0 * tan - 1) / (V_0 * tan + 1)


    return {
        "high": {
            "boost": boost,
            "cut": hi_cut,
        },
        "low": {
            "boost":  boost,
            "cut" : low_cut,
        }
    }

def shelf_filter(x, G, fc, fs, t='low'):
    N = len(x)
    x_h = np.zeros(N)
    y = np.zeros(N)

    gain_type = 'boost' if G >= 0 else 'cut'
    H_0, V_0 = gain_param(G)
    c = shelf_params(V_0, fc, fs)[t][gain_type]
    
    for n in range(N):
        if n == 0:
            x_h[n] = x[n]
            ap_y = c * x_h[n] + x_h[n]  
        else:
            x_h[n] = x[n] - c * x_h[n - 1]
            ap_y = c * x_h[n] + x_h[n - 1]
        
        if t == 'low':
            y[n] = 0.5 * H_0 * (x[n] + ap_y) + x[n]
        else:
            y[n] = 0.5 * H_0 * (x[n] - ap_y) + x[n]

    return y

def shelf_freq_response(G, fc, fs, t = 'low', n_points=1024):
    w = np.linspace(0, np.pi, n_points)
    H = np.zeros_like(w, dtype=complex)
    
    gain_type = 'boost' if G >= 0 else 'cut'
    H_0, V_0 = gain_param(G)
    c = shelf_params(V_0, fc, fs)[t][gain_type]

    for i, omega in enumerate(w):
        z = np.exp(1j * omega)
        A_z = (z ** -1 + c) / (1 + c * z ** -1)

        if t == 'low':
            H[i] = 1 + H_0 * 0.5 *(1 + A_z)
        else:
            H[i] = 1 + H_0 * 0.5 *(1 - A_z)

    freqs = (w * fs) / (np.pi * 2)

    # returning the db mags here for simplicity
    return freqs, 20 * np.log10(np.abs(H)) 

G = 10 # in DB
cutoffs=[600, 2000]
fs = sr # sample rate from opened file
gains = [-9, -6, -3, 3, 6, 9]  # Gains in dB
colors = ['b', 'g', 'r', 'c', 'm', 'y']  # Colors for different gain curves

low_shelved = shelf_filter(samples, G, cutoffs[0], fs, t = 'low')
high_shelved = shelf_filter(samples, G, cutoffs[1], fs, t = 'high')

plt.figure(figsize=(18, 6))  # Make the figure larger horizontally

for G, color in zip(gains, colors):
    freqs, H_low_db = shelf_freq_response(G, cutoffs[0], fs, t='low')
    plt.plot(freqs, H_low_db, linestyle='-', color=color, label=f"Low Shelf, G={G} dB")

for G, color in zip(gains, colors):
    freqs, H_high_db = shelf_freq_response(G, cutoffs[1], fs, t='high')
    plt.plot(freqs, H_high_db, linestyle='--', color=color, label=f"High Shelf, G={G} dB")


plt.xscale('log')
plt.xlim(20, fs / 2)  
plt.ylim(-15, 15)
plt.xlabel("Frequency (Hz)")
plt.ylabel("Magnitude (dB)")
plt.title(f"First-Order Low ({cutoffs[0]}hz) and High ({cutoffs[1]}hz) Shelf Freq Responses")
plt.legend()
plt.grid(True, which="both", ls="--", lw=0.5)
plt.show()

print("Original")
display(Audio(samples, rate=fs))
print(f"First-Order Low Shelf @ gain={G}, cutoff={cutoffs[0]}")
display(Audio(low_shelved, rate=fs))
print(f"First-Order High Shelf @ gain={G}, cutoff={cutoffs[1]}")
display(Audio(high_shelved, rate=fs))





def low_boost_coeff(K, V_0):
    den = 1 + np.sqrt(2) * K + K**2
    
    b0 = (1 + np.sqrt(2 * V_0) * K + V_0 * K**2) / den
    b1 = (2 * (V_0 * K**2 - 1)) / den
    b2 = (1 - np.sqrt(2 * V_0) * K + V_0 * K**2) / den
    a1 = (2 * (K**2 - 1)) / den
    a2 = (1 - np.sqrt(2) * K + K**2) / den

    return b0, b1, b2, a1, a2

def low_cut_coeff(K, V_0):
    den = V_0 + np.sqrt(2 * V_0) * K + K**2

    b0 = (V_0 * (1 + np.sqrt(2) * K + K**2)) / den
    b1 = (2 * V_0 * (K**2 - 1)) / den
    b2 = (V_0 * (1 - np.sqrt(2) * K + K**2)) / den
    a1 = (2 * (K**2 - V_0)) / den
    a2 = (V_0 - np.sqrt(2 * V_0) * K + K**2) / den

    return b0, b1, b2, a1, a2

def high_boost_coeff(K, V_0):
    den = 1 + np.sqrt(2) * K + K**2

    b0 = (V_0 + np.sqrt(2 * V_0) * K + K**2) / den
    b1 = (2 * (K**2 - V_0)) / den
    b2 = (V_0 - np.sqrt(2 * V_0) * K + K**2) / den
    a1 = (2 * (K**2 - 1)) / den
    a2 = (1 - np.sqrt(2) * K + K**2) / den

    return b0, b1, b2, a1, a2

def high_cut_coeff(K, V_0):
    den = 1 + np.sqrt(2 * V_0) * K + V_0 * K**2

    b0 = (V_0 * (1 + np.sqrt(2) * K + K**2)) / den
    b1 = (2 * V_0 * (K**2 - 1)) / den
    b2 = (V_0 * (1 - np.sqrt(2) * K + K**2)) / den
    a1 = (2 * (V_0 * K**2 - 1)) / den
    a2 = (1 - np.sqrt(2 * V_0) * K + V_0 * K**2) / den

    return b0, b1, b2, a1, a2



def get_coeff(K, G, t):
    V_0 = 10 ** (G / 20)
    
    if t == 'low' and G >= 0:
        return low_boost_coeff(K, V_0)
    elif t == 'low' and G < 0:
        return low_cut_coeff(K, V_0)
    elif t == 'high' and G >= 0:
        return high_cut_coeff(K, V_0)
    elif t == 'high' and G < 0:
        return high_cut_coeff(K, V_0)
    else:
        raise ValueError("Invalid input")

def second_order_shelf(x, G, fc, fs, t = 'low'):
    N = len(x)
    K = np.pi * fc / fs

    y = np.zeros_like(x)

    b0, b1, b2, a1, a2 = get_coeff(K, G, t)

    y[0] = b0 * x[0]
    y[1] = b0 * x[1] + b1*x[0] - a1 * y[0]

    for n in range(2, N):
        y[n] = b0 * x[n] + b1*x[n - 1] + b2 * x[n-2] - a1 * y[n - 1] - a2 * y[n - 2]

    return y


fc = 100
G = -10

low_shelf_filtered = second_order_shelf(samples, -10, 100, fs)
high_shelf_filtered = second_order_shelf(samples, -10, 1000, fs, t='high')


display(Audio(low_shelf_filtered, rate=sr))
display(Audio(high_shelf_filtered, rate=sr))




















































