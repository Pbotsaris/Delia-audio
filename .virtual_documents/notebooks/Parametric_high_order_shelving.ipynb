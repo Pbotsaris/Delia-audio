import numpy as np
import matplotlib.pyplot as plt
import librosa
from IPython.display import display, Audio

samples, fs = librosa.load("audio_examples/voice.wav", sr=44100)
samples =  samples[fs: fs * 2] # 1 sec












fc = 500
G = -10

def low_shelf_coeff(G, fc, fs):
    K = np.tan(np.pi * fc / fs)
    V = np.sqrt(10 ** (G / 20)) - 1
    c = np.cos(np.pi / 4)  # For second-order filter
    
    # Calculate the intermediate coefficient \alpha_0^{-1}
    a0_inv = 1 / (1 + 2 * K * c + K**2)
    
    # Coefficients for the recursive part (denominator)
    a1 = 2 * (K**2 - 1) * a0_inv
    a2 = (1 - 2 * K * c + K**2) * a0_inv
    
    # First parallel path coefficients (scaled by V)
    k1 = 2 * K
    b0_1 = (K + c) * a0_inv
    b1_1 = k1 * a0_inv
    b2_1 = (K - c) * a0_inv
    
    # Second parallel path coefficients (scaled by V^2)
    k2 = K**2
    b0_2 = a0_inv
    b1_2 = 2 * a0_inv
    b2_2 = a0_inv
    
    return k1, k2, b0_1, b1_1, b2_1, b0_2, b1_2, b2_2, a1, a2

def low_shelf(x, G, fc, fs):
    N = len(x)
    y = np.zeros(N)
    v1 = np.zeros(N)  # First parallel path output
    v2 = np.zeros(N)  # Second parallel path output
    
    k1, k2, b0_1, b1_1, b2_1, b0_2, b1_2, b2_2, a1, a2 = low_shelf_coeff(G, fc, fs)
    V = np.sqrt(10 ** (G / 20)) - 1
    
    # Initialize first two samples
    v1[0] = b0_1 * x[0]
    v2[0] = b0_2 * x[0]
    y[0] = x[0] + V * k1 * v1[0] + V * V * k2 * v2[0]
    
    v1[1] = b0_1 * x[1] + b1_1 * x[0] - a1 * v1[0] - a2 * v1[0]
    v2[1] = b0_2 * x[1] + b1_2 * x[0] - a1 * v2[0] - a2 * v2[0]
    y[1] = x[1] + V * k1 * v1[1] + V * V * k2 * v2[1]
    
    # Process remaining samples
    for n in range(2, N):
        # First parallel path
        v1[n] = (b0_1 * x[n] + b1_1 * x[n-1] + b2_1 * x[n-2] - 
                 a1 * v1[n-1] - a2 * v1[n-2])
        
        # Second parallel path
        v2[n] = (b0_2 * x[n] + b1_2 * x[n-1] + b2_2 * x[n-2] - 
                 a1 * v2[n-1] - a2 * v2[n-2])
        
        # Combine paths with scaling
        y[n] = x[n] + V * k1 * v1[n] + V * V * k2 * v2[n]
    
    return y


def low_shelf_freq_response(G, fc, fs, n_points=1024):
    w = np.linspace(0, np.pi, n_points)
    H = np.zeros_like(w, dtype=complex)
    K = np.tan(np.pi * fc / fs)
    V = np.sqrt(10 ** (G / 20)) - 1
    c = np.cos(np.pi / 4)

    for i, omega in enumerate(w):
        z = np.exp(1j * omega)

        # First term
        num1 = 2 * V * K * (K + c + 2 * K * z**-1 + (K - c) * z**-2)
        den = 1 + 2 * K * c + K**2 + (2 * K**2 - 2) * z**-1 + (1 - 2 * K * c + K**2) * z**-2

        # Second term
        num2 = V**2 * K**2 * (1 + 2 * z**-1 + z**-2)

        # Combined transfer function with direct path term
        H[i] = 1 + (num1 / den) + (num2 / den)


    freqs = (w * fs) / (2 * np.pi)
    return freqs, 20 * np.log10(np.abs(H))


filtered = low_shelf(samples, G, fc, fs)

freqs, mags = low_shelf_freq_response(G,fc, fs)

plt.figure(figsize=(16, 6))
plt.plot(freqs, mags, label=f"Low Shelf Filter (G={G} dB, fc={fc} Hz)")
plt.xscale('log')
plt.xlim([20, fs / 2])
plt.xlabel("Frequency (Hz)")
plt.ylabel("Magnitude (dB)")
plt.title("Frequency Response of Low Shelf Filter")
plt.grid(True, which="both", ls="--", lw=0.5)
plt.legend()
plt.show()

print("Original")
display(Audio(samples, rate=fs))
print(f"Second-order Shelf fs={fs}, G={G} ")
display(Audio(filtered, rate=fs)) 





G = -10
fc = 600
M = 6

def low_shelf_coeffs(G, fc, fs, M):
    K = np.tan(np.pi * fc / fs)
    V = np.sqrt(10 **(G/20)) - 1

    coeffs = []

    for m in range(1, M // 2 + 1):
        # we must calculate the cm for each section
        alpha_m = (1 / 2 - (2 * m - 1) / (2 * M)) * np.pi
        c = np.cos(alpha_m)

        a0_inv = 1 / (1 + 2 * K * c + K**2)

        # coeffs for recursive part (denominator)
        a1 = 2 * (K**2 - 1) * a0_inv
        a2 = (1 - 2 * K * c + K**2) * a0_inv

        # first parallel path (scaled by V)
        k1 = 2 * K
        b0_1 = (K +c) * a0_inv
        b1_1 = k1 * a0_inv
        b2_1 = (K - c) * a0_inv

        # second parellel path (scaled by V^2)
        k2 = K**2 

        b0_2 = a0_inv
        b1_2 = 2 * a0_inv
        b2_2 = a0_inv

        coeffs.append((k1, k2, b0_1, b1_1, b2_1, b0_2, b1_2, b2_2, a1, a2))

    return coeffs


def generic_low_shelf(x, G, fc, fs, M):
    N = len(x)
    # this is important because we will compute the filter multiple times
    y = x.copy()

    coeffs = low_shelf_coeffs(G,fc, fs, M)
    V = np.sqrt( 10 ** (G / 20)) - 1

    for coeff in coeffs:
        k1, k2, b0_1, b1_1, b2_1, b0_2, b1_2, b2_2, a1, a2 = coeff

        v1 = np.zeros(N) # first parallel path
        v2 = np.zeros(N) # second parallel path
        section_out = np.zeros(N)

        # first sample
        v1[0] = b0_1 * y[0]
        v2[0] = b0_2 * y[0]
        section_out[0] = y[0] + V * k1 * v1[0] + V * V * k2 * v2[0]

        # second sample
        v1[1] = b0_1 * y[1] + b1_1 * y[0] - a1 * v1[0]  - a2 * v1[0]
        v2[1] = b0_2  * y[1] + b1_2 * y[0] - a1 * v2[0] - a2 * v2[0]
        section_out[1] = y[1] + V  * k1 * v1[1] + V * V * k2 * v2[1] 

        for n in range(2, N):
            v1[n] = (b0_1 * y[n] + b1_1 * y[n - 1] + b2_1 * y[n - 2] - a1 * v1[n - 1] - a2 * v1[n - 2])
            v2[n] = (b0_2 * y[n] + b1_2 * y[n - 1] + b2_2 * y[n - 2] - a1 * v2[n - 1] - a2 * v2[n - 2])

            section_out[n] = y[n] + V * k1 * v1[n] + V * V * k2 * v2[n]

        y = section_out.copy()


    return y

def generic_low_shelf_freq_response(G, fc, fs, M, n_points=1024):
    w = np.linspace(0, np.pi, n_points)
    H = np.ones_like(w, dtype=complex)
    K = np.tan(np.pi * fc / fs)
    V = np.sqrt(10 ** (G / 20)) - 1

    # acummulate for each section
    for m in range(1, M // 2 + 1):
        alpha_m = (1 / 2 - (2 * m - 1) / (2 * M)) * np.pi
        c = np.cos(alpha_m)

        for i, omega in enumerate(w):
            z = np.exp(1j * omega)
    
            num1 = 2 * V * K * (K + c + 2 * K * z**-1 + (K - c) * z**-2)
            den = 1 + 2 * K * c + K**2 + (2 * K**2 - 2) * z**-1 + (1 - 2 * K * c + K**2) * z**-2
            
            num2 = V**2 * K**2 * (1 + 2 * z**-1 + z**-2)
    
            H[i] *= 1 + (num1 / den) +  (num2 / den)


    # we must normalize as we have multiple sections
    H = H ** (1 / (M // 2))
    
    freqs = ( w * fs) / (2 * np.pi)

    return freqs, 20 * np.log10(np.abs(H))
    

filtered = generic_low_shelf(samples, G, fc, fs, M)


freqs, mags = generic_low_shelf_freq_response(G, fc, fs, M)

plt.figure(figsize=(16, 6))
plt.plot(freqs, mags, label=f"Low Shelf Filter (M={M}, G={G} dB, fc={fc} Hz)")
plt.xscale('log')
plt.xlim([20, fs / 2])
plt.xlabel("Frequency (Hz)")
plt.ylabel("Magnitude (dB)")
plt.title("Freq Response Low Shelf Filter")
plt.grid(True, which="both", ls="--", lw=0.5)
plt.legend()
plt.show()


print("Original")
display(Audio(samples, rate=fs))

print(f"{M}th-order filter fc={fc}, G={G}")
display(Audio(filtered , rate=fs))    





G = 10
fc = 600
M = 9

def low_shelf_coeffs(G, fc, fs, M):
    K = np.tan(np.pi * fc / fs)
    V = np.sqrt(10 **(G/20)) - 1

    coeffs = []

    for m in range(1, M // 2 + 1):
        alpha_m = (1 / 2 - (2 * m - 1) / (2 * M)) * np.pi
        c = np.cos(alpha_m)

        a0_inv = 1 / (1 + 2 * K * c + K**2)

        # coeffs for recursive part (denominator)
        a1 = 2 * (K**2 - 1) * a0_inv
        a2 = (1 - 2 * K * c + K**2) * a0_inv

        # first parallel path (scaled by V)
        k1 = 2 * K
        b0_1 = (K +c) * a0_inv
        b1_1 = k1 * a0_inv
        b2_1 = (K - c) * a0_inv

        # second parellel path (scaled by V^2)
        k2 = K**2 

        b0_2 = a0_inv
        b1_2 = 2 * a0_inv
        b2_2 = a0_inv

        # coeffs the either `first` or `second` order 
        coeffs.append( ('second', (k1, k2, b0_1, b1_1, b2_1, b0_2, b1_2, b2_2, a1, a2)))

    # Calculate first-order coeffs
    if M % 2 == 1:
        a = (K - 1) / (K + 1)
        coeffs.append((('first'), (a, K)))

    return coeffs


def generic_low_shelf(x, G, fc, fs, M):
    N = len(x)
    y = x.copy()

    coeffs = low_shelf_coeffs(G,fc, fs, M)
    V = np.sqrt( 10 ** (G / 20)) - 1

    for section_type, coeff in coeffs:
        # First-order
        if section_type == 'first':
            a, K = coeff

            v = np.zeros(N)
            section_out = np.zeros(N)
            v[0] = y[0]
            section_out[0] = y[0] + (V / 2) * (y[0] + v[0])
            
            for n in range(1, N):
                v[n] = a * v[n - 1] + y[n] - a * y[n - 1]  
                section_out[n] = y[n] + (V / 2) * (y[n] + v[n])  
            y = section_out.copy()
            continue

        # Second-order
        k1, k2, b0_1, b1_1, b2_1, b0_2, b1_2, b2_2, a1, a2 = coeff

        v1 = np.zeros(N) 
        v2 = np.zeros(N) 
        section_out = np.zeros(N)

        v1[0] = b0_1 * y[0]
        v2[0] = b0_2 * y[0]
        section_out[0] = y[0] + V * k1 * v1[0] + V * V * k2 * v2[0]

        v1[1] = b0_1 * y[1] + b1_1 * y[0] - a1 * v1[0] - a2 * v1[0] 
        v2[1] = b0_2  * y[1] + b1_2 * y[0] - a1 * v2[0] - a2 * v2[0]
        section_out[1] = y[1] + V  * k1 * v1[1] + V * V * k2 * v2[1] 

        for n in range(2, N):
            v1[n] = (b0_1 * y[n] + b1_1 * y[n - 1] + b2_1 * y[n - 2] - a1 * v1[n - 1] - a2 * v1[n - 2])
            v2[n] = (b0_2 * y[n] + b1_2 * y[n - 1] + b2_2 * y[n - 2] - a1 * v2[n - 1] - a2 * v2[n - 2])
            section_out[n] = y[n] + V * k1 * v1[n] + V * V * k2 * v2[n]

        y = section_out.copy()

    return y

def generic_low_shelf_freq_response(G, fc, fs, M, n_points=1024):
    w = np.linspace(0, np.pi, n_points)
    H = np.ones_like(w, dtype=complex)
    K = np.tan(np.pi * fc / fs)
    V = np.sqrt(10 ** (G / 20)) - 1

    # acummulate for each section
    for m in range(1, M // 2 + 1):
        alpha_m = (1 / 2 - (2 * m - 1) / (2 * M)) * np.pi
        c = np.cos(alpha_m)

        for i, omega in enumerate(w):
            z = np.exp(1j * omega)
    
            num1 = 2 * V * K * (K + c + 2 * K * z**-1 + (K - c) * z**-2)
            den = 1 + 2 * K * c + K**2 + (2 * K**2 - 2) * z**-1 + (1 - 2 * K * c + K**2) * z**-2
            
            num2 = V**2 * K**2 * (1 + 2 * z**-1 + z**-2)
    
            H[i] *= 1 + (num1 / den) +  (num2 / den)

    # handle the first-order if applicable
    if M % 2 == 1:
        for i, omega in enumerate(w):
            z = np.exp(1j * omega)
            a = (K - 1) / (K + 1)
            # Allpass transfer function
            H_ap = (a + z**-1) / (1 + a * z**-1)
            H[i] *= 1 + (V / 2) * (1 + H_ap)
            
    H = H ** (1 / (M // 2))
    freqs = ( w * fs) / (2 * np.pi)

    return freqs, 20 * np.log10(np.abs(H))
    
filtered = generic_low_shelf(samples, G, fc, fs, M)

Ms = [2, 4, 8]

plt.figure(figsize=(16, 8))

for M in Ms:
    freqs, mags = generic_low_shelf_freq_response(G, fc, fs, M)
    plt.semilogx(freqs, mags, label=f'M={M}')

plt.grid(True, which="both", ls="--", lw=0.5)
plt.axhline(y=0, color='k', linestyle='-', alpha=0.3)
plt.axhline(y=G, color='r', linestyle='--', alpha=0.5, label='Target gain')
plt.axvline(x=fc, color='g', linestyle='--', alpha=0.5, label='Cutoff freq')
plt.xlim([20, fs/2])
plt.ylim([min(G-5, -5), max(5, G+5)])
plt.xlabel("Frequency (Hz)")
plt.ylabel("Magnitude (dB)")
plt.title("Low Shelf Filter Frequency Response")
plt.legend()
plt.show()


print("Original")
display(Audio(samples, rate=fs))

print(f"{M}th-order filter fc={fc}, G={G}")
display(Audio(filtered , rate=fs))    





G = 10
fc = 1000
M = 8

def high_shelf_coeffs(G, fc, fs, M):
    K = np.tan(np.pi * fc / fs)
    # for whatever reason I need to invert the G here
    V = np.sqrt(10 ** (-G / 20)) - 1
    
    coeffs = []
    
    for m in range(1, M // 2 + 1):
        alpha_m = (1 / 2 - (2 * m - 1) / (2 * M)) * np.pi
        c = np.cos(alpha_m)
        
        K_high = 1 / K  # Analog prototype transformation
        a0_inv = 1 / (1 + 2 * K_high * c + K_high**2)
        
        # High-shelf coefficients with -z^(-1)
        a1 = -2 * (K_high**2 - 1) * a0_inv
        a2 = (1 - 2 * K_high * c + K_high**2) * a0_inv
        
        k1 = -2 * K_high
        b0_1 = (K_high + c) * a0_inv
        b1_1 = k1 * a0_inv
        b2_1 = (K_high - c) * a0_inv
        
        k2 = K_high**2
        b0_2 = a0_inv
        b1_2 = -2 * a0_inv
        b2_2 = a0_inv
        
        coeffs.append(('second', (k1, k2, b0_1, b1_1, b2_1, b0_2, b1_2, b2_2, a1, a2)))

    if M % 2 == 1:
        K_high = 1 / K
        a = (K_high - 1) / (K_high + 1)
        coeffs.append(('first', (a, K_high)))
        
    return coeffs, V

def high_shelf_filter(x, G, fc, fs, M):
    N = len(x)
    y = x.copy()
    coeffs, V = high_shelf_coeffs(G, fc, fs, M)

    for section_type, coeff in coeffs:
        # First-order
        if section_type == 'first':
            a, K = coeff

            v = np.zeros(N)
            section_out = np.zeros(N)
            v[0] = y[0]
            section_out[0] = y[0] + (V / 2) * (y[0] + v[0])
            
            for n in range(1, N):
                v[n] = a * v[n - 1] + y[n] - a * y[n - 1]  
                section_out[n] = y[n] + (V / 2) * (y[n] + v[n])  
            y = section_out.copy()
            continue

        # Second-order
        k1, k2, b0_1, b1_1, b2_1, b0_2, b1_2, b2_2, a1, a2 = coeff

        v1 = np.zeros(N) 
        v2 = np.zeros(N) 
        section_out = np.zeros(N)

        v1[0] = b0_1 * y[0]
        v2[0] = b0_2 * y[0]
        section_out[0] = y[0] + V * k1 * v1[0] + V * V * k2 * v2[0]

        v1[1] = b0_1 * y[1] + b1_1 * y[0] - a1 * v1[0] - a2 * v1[0] 
        v2[1] = b0_2  * y[1] + b1_2 * y[0] - a1 * v2[0] - a2 * v2[0]
        section_out[1] = y[1] + V  * k1 * v1[1] + V * V * k2 * v2[1] 

        for n in range(2, N):
            v1[n] = (b0_1 * y[n] + b1_1 * y[n - 1] + b2_1 * y[n - 2] - a1 * v1[n - 1] - a2 * v1[n - 2])
            v2[n] = (b0_2 * y[n] + b1_2 * y[n - 1] + b2_2 * y[n - 2] - a1 * v2[n - 1] - a2 * v2[n - 2])
            section_out[n] = y[n] + V * k1 * v1[n] + V * V * k2 * v2[n]

        y = section_out.copy()

    
    return y

def high_shelf_freq_response(G, fc, fs, M, n_points=1024):
    coeffs, V = high_shelf_coeffs(G, fc, fs, M)
    
    w = np.linspace(0, np.pi, n_points)
    freqs = w * fs / (2 * np.pi)
    H = np.ones(n_points, dtype=complex)
    
    for section_type, coeff in coeffs:
        if section_type == 'first':
            a, K = coeff
            z = np.exp(1j * w)
            section_H = 1 + (V/2) * (1 + (1 + z**-1)/(1 + a * z**-1))
            H *= section_H
            
        else:
            k1, k2, b0_1, b1_1, b2_1, b0_2, b1_2, b2_2, a1, a2 = coeff
            z = np.exp(1j * w)
            
            num1 = b0_1 + b1_1 * z**-1 + b2_1 * z**-2
            num2 = b0_2 + b1_2 * z**-1 + b2_2 * z**-2
            den = 1 + a1 * z**-1 + a2 * z**-2
            
            section_H = 1 + V * k1 * (num1/den) + V**2 * k2 * (num2/den)
            H *= section_H

    # normalize with an arbritaty 1.58, I know but I couldn't get this to work in the better
    # way given the the paper is mostly in the time continous domain. Maybe something to look into later
    H = H ** (1.58 / (M // 2))
    return freqs, 20 * np.log10(np.abs(H))

Ms = [2, 4, 8]
Gs =  [-10, 10]
plt.figure(figsize=(16, 8))

print("Original")
display(Audio(samples, rate=fs))

for M in Ms:
    
    # actual_gain= verify_filter_gain(G, fc, fs, M)
    freqs, mags = high_shelf_freq_response(G, fc, fs, M)
    
    filtered = high_shelf_filter(samples, G, fc, fs, M)
    print(f"Filtered: G={G} M={M}")
    display(Audio(filtered, rate=fs))
    
    plt.semilogx(freqs, mags, label=f'M={M}')
    

plt.grid(True, which="both", ls="--", lw=0.5)
plt.axhline(y=0, color='k', linestyle='-', alpha=0.3)
plt.axhline(y=G, color='r', linestyle='--', alpha=0.5, label='Target gain')
plt.axvline(x=fc, color='g', linestyle='--', alpha=0.5, label='Cutoff freq')

plt.xlim([20, fs/2])

# plt.ylim([min(G-5, -5), max(5, G+5)])
plt.xlabel("Frequency (Hz)")
plt.ylabel("Magnitude (dB)")
plt.title("High Shelf Filter Frequency Response")
plt.legend()
plt.show()







G = 3
fc = 1000
M = 8


def band_shelf_coeffs(G, fc, fs, M, ):
    
    K = np.tan(np.pi * fc / fs)
    V = np.sqrt(10 ** (-G / 20)) - 1

    Omega0 = 2 * np.pi * fc / fs
    
    # Compute the cosine term for the center frequency shift
    c0 = np.cos(Omega0)
    coeffs = []
    
    
    for m in range(1, M // 2 + 1):
        alpha_m = (1 / 2 - (2 * m - 1) / (2 * M)) * np.pi
        c = np.cos(alpha_m)
        
        K_band = 1 / K  # Analog prototype transformation
        a0_inv = 1 / (1 + 2 * K_band * c + K_band**2)
        
        # Calculate the all-pass substitution terms
        a1 = -2 * (K_band**2 - 1) * a0_inv
        a2 = (1 - 2 * K_band * c + K_band**2) * a0_inv
        
        k1 = -2 * K_band
        # Substitute z^{-1} -> A(z) with center frequency c0
        b0_1 = (K_band + c) * a0_inv
        b1_1 = k1 * a0_inv
        b2_1 = (K_band - c) * a0_inv
        
        k2 = K_band**2
        b0_2 = a0_inv
        b1_2 = -2 * a0_inv
        b2_2 = a0_inv
        
        
        coeffs.append(('second',(k1, k2, b0_1, b1_1, b2_1, b0_2, b1_2, b2_2, a1, a2)))

    if M % 2 == 1:
        K_band = 1 / K
        a = (K_band - 1) / (K_band + 1)
        coeffs.append(('first', (a, K_band)))
        
    return coeffs, V

def band_shelf_filter(x, G, fc, fs, M):
    N = len(x)
    y = x.copy()
    coeffs, V = band_shelf_coeffs(G, fc, fs, M)

    for section_type, coeff in coeffs:
        if section_type == 'first':
            a, K = coeff

            v = np.zeros(N)
            section_out = np.zeros(N)
            v[0] = y[0]
            section_out[0] = y[0] + (V / 2) * (y[0] + v[0])
            
            for n in range(1, N):
                v[n] = a * v[n - 1] + y[n] - a * y[n - 1]  
                section_out[n] = y[n] + (V / 2) * (y[n] + v[n])  
            y = section_out.copy()
            continue

        # Second-order
        k1, k2, b0_1, b1_1, b2_1, b0_2, b1_2, b2_2, a1, a2 = coeff

        v1 = np.zeros(N) 
        v2 = np.zeros(N) 
        section_out = np.zeros(N)

        v1[0] = b0_1 * y[0]
        v2[0] = b0_2 * y[0]
        section_out[0] = y[0] + V * k1 * v1[0] + V * V * k2 * v2[0]

        v1[1] = b0_1 * y[1] + b1_1 * y[0] - a1 * v1[0] - a2 * v1[0] 
        v2[1] = b0_2  * y[1] + b1_2 * y[0] - a1 * v2[0] - a2 * v2[0]
        section_out[1] = y[1] + V  * k1 * v1[1] + V * V * k2 * v2[1] 

        for n in range(2, N):
            v1[n] = (b0_1 * y[n] + b1_1 * y[n - 1] + b2_1 * y[n - 2] - a1 * v1[n - 1] - a2 * v1[n - 2])
            v2[n] = (b0_2 * y[n] + b1_2 * y[n - 1] + b2_2 * y[n - 2] - a1 * v2[n - 1] - a2 * v2[n - 2])
            section_out[n] = y[n] + V * k1 * v1[n] + V * V * k2 * v2[n]

        y = section_out.copy()

    return y


def band_shelf_freq_response(G, fc, fs, M, n_points=1024):
    w = np.linspace(0, np.pi, n_points)
    H = np.ones_like(w, dtype=complex)

    c0 = np.cos(2 * np.pi * fc / fs)
    g = 10 ** (G/40) # 40 because of g**2, though this may be hacky

    K = np.tan(np.pi * fc / fs)

    for m in range(1, M // 2 + 1):
        alpha_m = (1 / 2 - (2 * m - 1) / (2 * M)) * np.pi
        c = np.cos(alpha_m)

        for i, omega in enumerate(w):
            
            cos  =( c0 - np.cos(omega)) ** (2 * M) 
            sin = (K * np.sin(omega)) ** (2 * M) 
            H[i] *= (cos + sin * g**2) / (cos + sin)

    H = H ** (1 / (M // 2))

    freqs = (w * fs ) / (np.pi * 2)

    return freqs, 20 * np.log10(np.abs(H))

print("Original")
display(Audio(samples, rate=fs))

plt.figure(figsize=(16, 8))
for M in Ms:
    freqs, mags =band_shelf_freq_response(G, fc, fs, M)
    plt.semilogx(freqs, mags, label=f'M={M}')
    
    filtered = band_shelf_filter(samples, G, fc, fs, M)
    print(f"Band pass: M={M}, G={G}")
    display(Audio(filtered, rate=fs))

plt.grid(True, which="both", ls="--", lw=0.5)
plt.xlim([20, fs/2])
plt.xlabel("Frequency (Hz)")
plt.ylabel("Magnitude (dB)")
plt.title("High Shelf Filter Frequency Response")
plt.legend()
plt.show()




