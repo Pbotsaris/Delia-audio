import numpy as np
import librosa
from IPython.display import Audio
import pydelia
import matplotlib.pyplot as plt
import matplotlib.ticker as mticker





def dft(samples, direction='forward'):
    output = []
    
    N = len(samples)
    sign = 1  if direction == 'inverse' else -1

    for k in range(N):
        ffted = complex(0, 0)
        for n in range(N): 
            angle = (2.0 * np.pi * k * n) / N
            exp = complex(np.cos(angle), sign * np.sin(angle))
            ffted += (exp * complex(samples[n], 0))

        # For inverse DFT, divide by N
        if direction == 'inverse':
            ffted /= N

        output.append(ffted)

    return output

dfted = dft(samples)
inv = dft(dfted, 'inverse')

# get only the real part after idft
inv_samples = []
for sample in inv:
    inv_samples.append(sample.real)

print(f"""
Input Samples: {samples}

The DFT Output is a list of complex numbers of the same size as the input:
{dfted}

Inverse DFT should reconstruct the original samples (subject to minor numeric inaccuracies):
{inv_samples}
""")





# our signal
sr = 44100 # hz
fft_size = 2048 # samples
freq = 1000 # hz
dur = fft_size / sr # to calculate the exact duration of the sine that we need for this example

# using our custom size wave as a helper
sine = pydelia.sine_wave(freq=freq, amp=0.5, sr=sr, dur=dur) 
t = np.linspace(0, dur, int(sr*dur), endpoint=False)

plt.plot(t, sine)
plt.title("100Hz Sine Wave")
plt.ylabel("Amp")
plt.xlabel("Time [s]")



# using our own FFT implementation here but could easily be using numpy as well

vec = pydelia.fft(sine)
N = len(vec)
mags = pydelia.magnitude(vec)
phase = pydelia.phase(vec)
bins = pydelia.fft_frequencies(N, sr)

inv = pydelia.ifft(vec)
inv_sine = []

# we only need the real part here
for sample in inv:
    inv_sine.append(sample.real)

fig, (ax1, ax2) = plt.subplots(1,2, figsize=(12, 5))

ax1.plot(bins[:N // 2], mags[:N // 2])
ax1.set_title ("FFT Magnitude of Sine Wave")
ax1.set_xlabel("Frequency (hz)")
ax1.set_ylabel("Magnitude")
ax1.set_xscale("log")
ax1.get_xaxis().set_major_formatter(mticker.ScalarFormatter()) 
ax1.grid(True)

ax2.plot(t, inv_sine)
ax2.set_title("Sine wave From IFFT")
ax2.set_xlabel("Time(s)")
ax2.set_ylabel("Amplitude")



# and phase. Using numpy.wrap to keep the ranges between -pi and pi

phase  = np.unwrap(phase)

plt.plot(bins, phase[:N // 2])
plt.title("FFT Phase of Sine Wave")
plt.xlabel("Frequency (Hz)")
plt.ylabel("Phase (radians)")





fs = 44100
N1 = 1024
N2 = 512

print(f"""
 For fft size N = {N1} @ {fs}hz then {fs}/{N1} = {fs/N1}hz
 For fft size N = {N2} @ {fs}hz then {fs}/{N2} = {fs/N2}hz
 """
)





fs = 44100
nb_samples = 64
desired_window = 1024

print(f"""
      window/fft size = {nb_samples}, resolution: {fs/nb_samples} hz
      window/fft size = {desired_window}, resolution = {fs/desired_window} hz
""")


samples = sine[:nb_samples]
# extend while padding with 0
padded_samples = sine[:nb_samples]
padded_samples.extend([0.0] * (desired_window - nb_samples))

print(f"""
 len(samples) = {len(samples)}
 len(padded_samples) = {len(padded_samples)}
""")
fig, (ax1, ax2) = plt.subplots(1,2, figsize=(12, 3))

ax1.plot(t[:len(samples)], samples)
ax1.set_title("64 Samples")
ax1.set_xlabel("Time(s)")
ax1.set_ylabel("Amplitude")

ax2.plot(t[:len(padded_samples)], padded_samples)
ax2.set_title("1024 with 0 Padded")
ax2.set_xlabel("Time(s)")
ax2.set_ylabel("Amplitude")







vec = pydelia.fft(samples)
padded_vec = pydelia.fft(padded_samples)

mags = pydelia.magnitude(vec)
padded_mags = pydelia.magnitude(padded_vec)

bins = pydelia.fft_frequencies(len(vec), sr)
padded_bins = pydelia.fft_frequencies(len(padded_vec), sr)

fig, (ax1, ax2) = plt.subplots(1,2, figsize=(12, 5))

ax1.plot(bins, mags[:len(vec) // 2])
ax1.set_title ("64 Samples")
ax1.set_xlabel("Frequency (hz)")
ax1.set_ylabel("Magnitude")
ax1.grid(True)

ax2.plot(padded_bins, padded_mags[:len(padded_vec) // 2])
ax2.set_title ("1028 samples with padded 0")
ax2.set_xlabel("Frequency (hz)")
ax2.set_ylabel("Magnitude")
ax2.grid(True)






def plot(s, name):
    hann =   pydelia.hanning(s)
    blackman = pydelia.blackman(s)
    
    # Both signals have the same size
    N = len(hann)

    hann_vec = pydelia.fft(hann)
    blackman_vec = pydelia.fft(blackman)
    
    hann_mags = pydelia.magnitude(hann_vec)
    blackman_vec = pydelia.magnitude(blackman_vec)
    
    bins = pydelia.fft_frequencies(N, sr)
    
    fig, (ax1, ax2) = plt.subplots(1,2, figsize=(12, 5))
    
    ax1.plot(bins, hann_mags[:N // 2] )
    ax1.set_title (f"{name} :Hanning Window")
    ax1.set_xlabel("Frequency (hz)")
    ax1.set_ylabel("Magnitude")
    ax1.grid(True)
    
    ax2.plot(bins, hann_mags[:N // 2] )
    ax2.set_title (f"{name}: Blackman Window")
    ax2.set_xlabel("Frequency (hz)")
    ax2.set_ylabel("Magnitude")
    ax2.grid(True)

plot(samples, "Samples")
plot(padded_samples, "Padded Samples")








samples, sr = librosa.load('audio_examples/voice.wav')
#one second
audio = samples[int(1.0 * sr): (int(2.0 *sr))]

print(f"""
Random 10 samples
     {segment[100:110]}
""")

plt.figure(figsize=(10, 4))
plt.plot(audio)
plt.title('Audio 1 second')
plt.xlabel("Samples")
plt.ylabel("Amplitude")
plt.grid(True)
plt.show()





N = 1024

# we see above that around 3000, 4000 samples, we have some audio signal
segment = audio.tolist()[3500:3500 + N]

vec = pydelia.fft(segment)
mags = pydelia.magnitude(vec)
bins = pydelia.fft_frequencies(N, sr)
plt.plot(bins, mags[: N // 2])
plt.title("Single Segment Frequency Domain Plot")
plt.xlabel("Frequency (hz)")
plt.ylabel("Magnitude")
plt.show()




def spectogram(samples, sr, window_size, hop_perc=0.5):
    n_samples = len(samples)
    hop_size = int(window_size * hop_perc) # so for 0.5 hop percent and 1024 window hop_size 1024 * 0.5 = 512

    # the number of windows our audio has
    # so for a second of audio @ 44K1 and window_size = 1024 ->  ((44100 -  1024) /  512) + 1 = 85.1328125 (round to 85)
    n_windows = (n_samples - window_size) // hop_size + 1
    
    # Create the spectrogram array (N/2 for frequencies, n_windows for time)
    spectogram = np.zeros((window_size // 2, n_windows)) 

    for window_index in range(n_windows):

        start = window_index * hop_size
        segment = samples[start:start + window_size]
        windowed_segment = pydelia.hanning(segment)

        fft_result = pydelia.fft(windowed_segment)
        mags = pydelia.magnitude(fft_result)
        db_mags = pydelia.decibels_from_magnitude(mags)
        spectogram[:, window_index] = np.array(db_mags[: window_size // 2])

    bins = pydelia.fft_frequencies(window_size, sr)
    plt.figure(figsize=(10,6))
    
    plt.imshow(spectogram,
               origin='lower',
               aspect='auto',
               # sets x axis to be between 0 and n_samples/sr seconds
               # and y axis to be between our frequency bins
               extent=[0, n_samples / sr, bins[0], bins[len(bins)-1]],
               cmap='viridis'
              )

    plt.colorbar(label="Magnitude (DB)")
    plt.title("Spectogram")
    plt.xlabel("Time (s)")
    plt.ylabel("Frequency (Hz)")

    plt.show()
    print(spectogram.shape)

spectogram(audio.tolist(), sr, N, 0.3)




