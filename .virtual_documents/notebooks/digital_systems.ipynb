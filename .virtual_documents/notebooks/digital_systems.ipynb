


import numpy as np
import matplotlib.pyplot as plt

def unit_impulse(n):
    return np.where(n == 0, 1, 0)

sample_index = np.arange(0, 10)

plt.figure(figsize=(10, 5))
plt.stem(sample_index, unit_impulse(sample_index))
plt.title("Unit Impulse")
plt.xlabel("samples")
plt.ylabel("Amplitude")

plt.show()





def moving_average_system(x, filter_size=5):
    y = np.zeros(len(x))
    
    for n in range(filter_size):
        y[n] = np.mean(x[:n + 1])

    for n in range(filter_size -1, len(x)):
        y[n] = np.mean(x[n - filter_size + 1: n + 1])

    return y

N = 40
u = unit_impulse(np.arange(N))
ir = moving_average_system(u)

plt.figure(figsize=(10, 5))
plt.subplot(1,2,1)
plt.stem(np.arange(N), u)
plt.title('Unit Impulse')
plt.xlabel("Samples")
plt.ylabel("Amplitude")

plt.subplot(1,2,2)
plt.stem(np.arange(N), ir)
plt.title('Moving Average Impulse Response')
plt.xlabel("Samples")
plt.ylabel("Amplitude")

plt.tight_layout()
plt.show()





import librosa
import pydelia

samples, sr = librosa.load('audio_examples/voice.wav', sr=None)
#one second
audio = samples[int(1.0 * sr): (int(2.0 *sr))]

filter_size = 100

N = len(audio)
u = unit_impulse(np.arange(N))
ir = moving_average_system(u, filter_size=filter_size)

conv_out = np.convolve(audio, ir)[:N]
filter_out =  moving_average_system(audio, filter_size=filter_size)

plt.figure(figsize=(12, 8))
plt.subplot(4,1,1)
plt.plot(np.arange(N) / sr, audio)
plt.title("Original Audio Signal")
plt.xlabel("Time (s)")
plt.ylabel("Amplitude")

plt.subplot(4, 1,2)
plt.plot(np.arange(N) / sr, conv_out, label="Convolution Output")
plt.title("Convolution Output (From IR)")
plt.xlabel("Time (s)")
plt.ylabel("Amplitude")

plt.subplot(4, 1,3)
plt.plot(np.arange(N) / sr, filter_out, label="Filter Output")
plt.title("Filter Output")
plt.xlabel("Time (s)")
plt.ylabel("Amplitude")

plt.subplot(4,1,4)
plt.stem(np.arange(filter_size + 10), ir[:filter_size + 10])
plt.title('Impulse Response')
plt.xlabel("Samples")
plt.ylabel("Amplitude")


plt.tight_layout()
plt.show()








def z_transform(h_n, z):
    n = np.arange(len(h_n))  
    # sum (h(n) * z^(-n))
    X_z = np.sum(h_n * z**(-n)) 
    
    return X_z

# Time-domain signal
a = 0.9
n = np.arange(0, 50)
h_n = a**n  # x(n) = 0.9^n for n >= 0
f_s=1000

frequencies = np.linspace(0, f_s / 2, 512)  # frequency range from 0 to Nyquist 

# Angular Frequency: omega = 2 * pi * f / f_s
omega = 2 * np.pi * frequencies / f_s

# Compute Z-transform on the unit circle z = e^(jω)
z_unit_circle = np.exp(1j * omega)  

# Compute Z-transform
X_z_unit_circle = np.array([z_transform(h_n, z) for z in z_unit_circle])  

plt.figure(figsize=(8, 6))

# Original Signal (0.9^n)
plt.subplot(3, 1, 1)
plt.stem(n, h_n)
plt.title("Original Impulse / Signal $%s$" % "h(n) = 0.9^n")
plt.xlabel("n (Samples)")
plt.ylabel("Amplitude")
plt.grid(True)

# Z-transform on the Unit Circle
plt.subplot(3, 1, 2)
plt.plot(frequencies, np.abs(X_z_unit_circle))
plt.title("DTFT (Z-transform on the Unit Circle)")
plt.xlabel("Frequency (Hz)")
plt.ylabel("Magnitude |X(e^(jω))|")
plt.grid(True)


plt.subplot(3, 1, 3)
plt.plot(np.real(z_unit_circle), np.imag(z_unit_circle), label="Unit Circle")
plt.title("Unit Circle in the Complex Plane ($%s$)" % "z = e^{jω}")
plt.xlabel("Re(z)")
plt.ylabel("Im(z)")
plt.gca().set_aspect('equal', adjustable='box')  
plt.grid(True)
plt.legend()


plt.tight_layout()
plt.show()






filter_size = 100
fs = 1000 # arbritary sampling rate
N = 100

impulse = unit_impulse(np.arange(N))

h_n = moving_average_system(impulse, filter_size=filter_size)
fft_len = fs // 2
freqs = np.linspace(0, fs / 2, fft_len) # Frequency range to the Nyquist
# ω = 2πf/fs
omega = 2 * np.pi * freqs / fs

H_n = np.fft.fft(h_n, fft_len)
H_mags = np.abs(H_n[:fft_len])
plt.figure(figsize=(8, 4))

plt.subplot(2, 1, 1)
plt.stem(np.arange(N), h_n)
plt.title(f"Impulse Response of Moving Average System (filter_size={filter_size})")
plt.xlabel("n (Samples)")
plt.ylabel("Amplitude")
plt.grid(True)

# Plot the magnitude of the frequency response |H(e^{jω})|
plt.subplot(2, 1, 2)
plt.plot(freqs, H_mags)
plt.title("Frequency Response |$%s$| of the Moving Average System" % "H(e^{jω})")
plt.xlabel("Frequency (Hz)")
plt.ylabel("Magnitude")
plt.grid(True)

plt.tight_layout()
plt.show()












def iir_filter(x, a1, a2):
    N = len(x)
    y = np.zeros(N)


    for n in range(N):
        # initial condition
        if n == 0:
            y[n] = x[n] 

        elif n == 1:
            y[n] = x[n] * y[n - 1]

        else:
           y[n] = x[n] - a1 * y[n - 1] - a2 * y[n - 2]

    return y

def freq_response(a1, a2, n_points=512):
    w = np.linspace(0, np.pi, n_points) # frequency range
    H = np.zeros_like(w, dtype=complex)

    # computing transfer function for each frequency
    for i, omega in enumerate(w):
        z = np.exp(1j * omega) # z = e^(jω)
        H[i] = 1 / (1 + a1 * z**-1 + a2 * z**-2) # transfer function

    return w, H


# coefficients
a1 = -0.5
a2 = -0.25

# samplig freq 
fs= 1000

# unit 
N = 50  # Number of samples
impulse = unit_impulse(np.arange(N))
impulse_response = iir_filter(impulse, a1, a2)

# Plot the impulse response
plt.figure(figsize=(8, 4))
plt.stem(np.arange(N), impulse_response)
plt.title('Impulse Response of IIR System')
plt.xlabel('n (samples)')
plt.ylabel('Amplitude')
plt.grid(True)
plt.show()

# Compute and plot the frequency response (transfer function)
# w for omega
w, h = freq_response(a1, a2)

db_mag = 20 * np.log10(abs(h)) # reference is 1.0
radians_per_sample = w / np.pi 

# actual frequencies but we are going to use only 0 hz, fs/4 and fs/2 in the plot
# freq_hz = (w / (2 * np.pi)) * fs

# 0 Hz, fs/4, fs/2 for w = 0, w = pi / 2 and w = pi
hertz_ticks = np.array([0, np.pi/2, np.pi]) / (2 * np.pi) * fs  

fig, ax1 = plt.subplots(figsize=(8, 4))

ax1.plot(radians_per_sample, db_mag, 'b')
ax1.set_xlabel('Normalized Frequency (×π rad/sample)')
ax1.set_ylabel('Magnitude (dB)', color='b')
ax1.tick_params(axis='y', labelcolor='b')
ax1.grid(True)

ax2 = ax1.twiny()

ax2.set_xlim(ax1.get_xlim())
ax2.set_xticks([0, 0.5, 1])  # Normalized frequency ticks
ax2.set_xticklabels([f'{int(h)} Hz' for h in hertz_ticks]) 

ax2.set_xlabel(f'Frequency (Hz) for Sampling Rate = {fs} Hz')
plt.title('Frequency Response (Magnitude) of IIR System')
plt.show()





# coefficients, because we have 2nd-order, we need 3 coeffs, for 0, and the delays n-1 and n-2.
a = [1, -1.28, 0.47] # Output (feedback) (a0, a1, a2)
b = [0.69, -1.38, 0.69] # input (feedfowars) (b0, b1, b2)
N = 50 # number of samples
fs=1000 
n_freq_steps = 512
epsilon = 1e-40 # avoid division by 0

def iir_filter(x,a, b):
    N = len(x)
    M = len(a) - 1 # number of output delays (M terms in feedback
    N_minus_1 = len(b) # number of input dealys (N-1 terms in feedforward)
    y = np.zeros(N)
    
    # note we ignore calculation when n - k <= 0
    for n in range(N):
        # input side side:a feedfoward
        for k in range(1, M+1):
            if n - k >= 0:
                y[n] -= a[k] * y[n - k]

        # output side: feedback
        for k in range(N_minus_1):
            if n - k >= 0:
                y[n] += b[k] * x[n - k]

    return y

def freq_response(a, b, n_points=n_freq_steps):
    w = np.linspace(0, n_points) # omegas
    H = np.zeros_like(w, dtype=complex)

    for i, omega in enumerate(w):
        z = np.exp(1j * omega) # z = e^(jω)
        num = sum(b[k] * z**-k for k in range(len(b))) # feedforward (input)
        den = 1 + sum(a[k] * z**-k for k in range(1, len(a))) # Feeback (output)
        H[i] = num / den

    return w, H
    
    
impulse = unit_impulse(np.arange(N))
impulse_response = iir_filter(impulse, a, b)
w, H = freq_response(a, b)
freq_hz = (w / (2 * np.pi)) * fs
mags_db = 20 * np.log10(np.abs(H) + epsilon)

# plotting impulse response
plt.figure(figsize=(8, 4))
plt.stem(np.arange(N), impulse_response)
plt.title('Impulse Response of Extended Delay Line IIR System')
plt.xlabel('n (samples)')
plt.ylabel('Amplitude')
plt.grid(True)

plt.figure(figsize=(8, 4))
plt.plot(freq_hz, mags_db )
plt.title('Frequency Response (Magnitude) of Extended Delay Line IIR System')
plt.xlabel('Frequency (Hz)')
plt.ylabel('Magnitude (dB)')
plt.grid(True)
plt.tight_layout()
plt.show()






# Coefficients for a simple FIR filter (feedforward only)
b = [-0.1, 0.15, 0.3, 0.15, -0.1] 
N = 50  # Number of samples
fs = 1000  # Sampling frequency
n_freq_steps = 512
epsilon = 1e-40  # To avoid division by 0

# Define the FIR filter using a similar structure as your IIR implementation
def fir_filter(x, b):
    N = len(x)
    M = len(b)  # Number of feedforward coefficients
    y = np.zeros(N)
    
    # Apply the difference equation for the FIR filter (feedforward only)
    for n in range(N):
        for k in range(M):
            if n - k >= 0:
                y[n] += b[k] * x[n - k]  # Feedforward part (input)
    
    return y

# Frequency response for FIR filter
def freq_response_fir(b, n_points=n_freq_steps):
    w = np.linspace(0, np.pi, n_points)  # Omegas over [0, pi] (normalized frequency)
    H = np.zeros_like(w, dtype=complex)

    for i, omega in enumerate(w):
        z = np.exp(1j * omega)  # z = e^(jω)
        num = sum(b[k] * z**-k for k in range(len(b)))  # Feedforward (input)
        H[i] = num  # Since FIR has no feedback, denominator is 1
    
    return w, H

# Generate unit impulse response
def unit_impulse(N):
    impulse = np.zeros(N)
    impulse[0] = 1  # Unit impulse at n=0
    return impulse

# Compute impulse response for FIR filter
impulse = unit_impulse(N)
impulse_response = fir_filter(impulse, b)

# Compute frequency response for FIR filter
w, H = freq_response_fir(b)
freq_hz = (w / (2 * np.pi)) * fs
mags_db = 20 * np.log10(np.abs(H) + epsilon)

# Plotting impulse response
plt.figure(figsize=(8, 4))
plt.stem(np.arange(N), impulse_response)
plt.title('Impulse Response of FIR Filter')
plt.xlabel('n (samples)')
plt.ylabel('Amplitude')
plt.grid(True)

# Plotting frequency response
plt.figure(figsize=(8, 4))
plt.plot(freq_hz, mags_db)
plt.title('Frequency Response (Magnitude) of FIR Filter')
plt.xlabel('Frequency (Hz)')
plt.ylabel('Magnitude (dB)')
plt.grid(True)

plt.tight_layout()
plt.show()



